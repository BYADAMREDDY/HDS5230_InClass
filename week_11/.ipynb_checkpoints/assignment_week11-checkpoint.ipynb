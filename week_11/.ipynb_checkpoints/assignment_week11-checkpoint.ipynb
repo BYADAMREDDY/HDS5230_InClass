{
 "cells": [
  {
   "cell_type": "code",
   "execution_count": 9,
   "id": "d0eb8d32-78d1-45b1-a6e8-6fe777f98918",
   "metadata": {},
   "outputs": [],
   "source": [
    "from xgboost import XGBClassifier\n",
    "from sklearn.model_selection import cross_val_score\n",
    "import time\n",
    "import pandas as pd"
   ]
  },
  {
   "cell_type": "code",
   "execution_count": 27,
   "id": "b65d1c5f-bd04-4640-b04d-4c903591763e",
   "metadata": {},
   "outputs": [],
   "source": [
    "def run_experiments(sample_size):\n",
    "    file_name = f\"sample_{sample_size}.csv\"\n",
    "    df = pd.read_csv(file_name)\n",
    "    out_col = \"outcome\"\n",
    "    cols = [i for i in df.columns if i != out_col]\n",
    "    print(\"X columns are :\" ,cols)\n",
    "    print(\"Y column is :\" ,f\"'{out_col}'\")\n",
    "    y = df[\"outcome\"]\n",
    "    X = df[cols]\n",
    "    # For each dataset size:\n",
    "    start = time.time()\n",
    "    model = XGBClassifier()\n",
    "    scores = cross_val_score(model, X, y, cv=5, scoring='accuracy')\n",
    "    end = time.time()\n",
    "    print(f\"Accuracy: {scores.mean()}, Time: {end-start} seconds\")"
   ]
  },
  {
   "cell_type": "code",
   "execution_count": 29,
   "id": "11be25b2-ef96-42c0-9050-3b2e3500b2ec",
   "metadata": {},
   "outputs": [
    {
     "name": "stdout",
     "output_type": "stream",
     "text": [
      "X columns are : ['pregnant', 'glucose', 'pressure', 'triceps', 'insulin', 'mass', 'pedigree', 'age']\n",
      "Y column is : 'outcome'\n",
      "Accuracy: 0.9100000000000001, Time: 0.1591050624847412 seconds\n"
     ]
    }
   ],
   "source": [
    "run_experiments(100)"
   ]
  },
  {
   "cell_type": "code",
   "execution_count": 31,
   "id": "f0f564fd-477a-4019-9062-3ff22973e58c",
   "metadata": {},
   "outputs": [
    {
     "name": "stdout",
     "output_type": "stream",
     "text": [
      "X columns are : ['pregnant', 'glucose', 'pressure', 'triceps', 'insulin', 'mass', 'pedigree', 'age']\n",
      "Y column is : 'outcome'\n",
      "Accuracy: 0.951, Time: 0.2962338924407959 seconds\n"
     ]
    }
   ],
   "source": [
    "run_experiments(1000)"
   ]
  },
  {
   "cell_type": "code",
   "execution_count": 33,
   "id": "6e71a6fb-8622-426a-88e4-566e0c0f2335",
   "metadata": {},
   "outputs": [
    {
     "name": "stdout",
     "output_type": "stream",
     "text": [
      "X columns are : ['pregnant', 'glucose', 'pressure', 'triceps', 'insulin', 'mass', 'pedigree', 'age']\n",
      "Y column is : 'outcome'\n",
      "Accuracy: 0.9741, Time: 0.43616676330566406 seconds\n"
     ]
    }
   ],
   "source": [
    "run_experiments(10000)"
   ]
  },
  {
   "cell_type": "code",
   "execution_count": 35,
   "id": "003e7191-3fa5-4d38-a4d3-cc297185e8a6",
   "metadata": {},
   "outputs": [
    {
     "name": "stdout",
     "output_type": "stream",
     "text": [
      "X columns are : ['pregnant', 'glucose', 'pressure', 'triceps', 'insulin', 'mass', 'pedigree', 'age']\n",
      "Y column is : 'outcome'\n",
      "Accuracy: 0.9864, Time: 1.0521409511566162 seconds\n"
     ]
    }
   ],
   "source": [
    "run_experiments(100000)"
   ]
  },
  {
   "cell_type": "code",
   "execution_count": 37,
   "id": "6ca6d714-0ff2-4a01-a258-b168a553fa0a",
   "metadata": {},
   "outputs": [
    {
     "name": "stdout",
     "output_type": "stream",
     "text": [
      "X columns are : ['pregnant', 'glucose', 'pressure', 'triceps', 'insulin', 'mass', 'pedigree', 'age']\n",
      "Y column is : 'outcome'\n",
      "Accuracy: 0.991687, Time: 8.78085708618164 seconds\n"
     ]
    }
   ],
   "source": [
    "run_experiments(1000000)"
   ]
  },
  {
   "cell_type": "code",
   "execution_count": 38,
   "id": "fe1f4a2a-f737-4dd8-8225-8892bf8a376c",
   "metadata": {},
   "outputs": [
    {
     "name": "stdout",
     "output_type": "stream",
     "text": [
      "X columns are : ['pregnant', 'glucose', 'pressure', 'triceps', 'insulin', 'mass', 'pedigree', 'age']\n",
      "Y column is : 'outcome'\n",
      "Accuracy: 0.9931026, Time: 109.88169407844543 seconds\n"
     ]
    }
   ],
   "source": [
    "run_experiments(10000000)"
   ]
  },
  {
   "cell_type": "code",
   "execution_count": null,
   "id": "8ba315ae-ef83-43d1-bc9d-ec0234d44b1d",
   "metadata": {},
   "outputs": [],
   "source": []
  }
 ],
 "metadata": {
  "kernelspec": {
   "display_name": "Python [conda env:base] *",
   "language": "python",
   "name": "conda-base-py"
  },
  "language_info": {
   "codemirror_mode": {
    "name": "ipython",
    "version": 3
   },
   "file_extension": ".py",
   "mimetype": "text/x-python",
   "name": "python",
   "nbconvert_exporter": "python",
   "pygments_lexer": "ipython3",
   "version": "3.12.7"
  }
 },
 "nbformat": 4,
 "nbformat_minor": 5
}
