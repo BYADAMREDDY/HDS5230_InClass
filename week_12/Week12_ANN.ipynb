{
  "nbformat": 4,
  "nbformat_minor": 0,
  "metadata": {
    "colab": {
      "provenance": [],
      "gpuType": "T4"
    },
    "kernelspec": {
      "name": "python3",
      "display_name": "Python 3"
    },
    "language_info": {
      "name": "python"
    },
    "accelerator": "GPU"
  },
  "cells": [
    {
      "cell_type": "code",
      "source": [
        "import pandas as pd\n",
        "import numpy as np\n",
        "import tensorflow as tf\n",
        "from sklearn.model_selection import train_test_split\n",
        "from sklearn.preprocessing import MinMaxScaler\n",
        "import time"
      ],
      "metadata": {
        "id": "SXC5TyRV4Kr2"
      },
      "execution_count": 1,
      "outputs": []
    },
    {
      "cell_type": "code",
      "source": [
        "# Load and preprocess the dataset\n",
        "def load_and_preprocess_data(csv_file):\n",
        "    # Load the CSV data into a pandas dataframe\n",
        "    df = pd.read_csv(csv_file)\n",
        "\n",
        "    # Separate features and the output column\n",
        "    X = df.drop('outcome', axis=1)\n",
        "    y = df['outcome']\n",
        "\n",
        "    # Normalize the data using MinMaxScaler (instead of custom normalization)\n",
        "    # scaler = MinMaxScaler()\n",
        "    # X_scaled = scaler.fit_transform(X)\n",
        "\n",
        "    # Convert data to numpy arrays for TensorFlow\n",
        "    X_scaled = np.array(X, dtype=np.float32)\n",
        "    y = np.array(y, dtype=np.float32)\n",
        "\n",
        "    return X_scaled, y"
      ],
      "metadata": {
        "id": "oFIkIau6ZHJt"
      },
      "execution_count": 2,
      "outputs": []
    },
    {
      "cell_type": "code",
      "source": [
        "# Build and compile the model\n",
        "def build_model(input_shape):\n",
        "    model = tf.keras.Sequential([\n",
        "        tf.keras.layers.Dense(4, activation='relu', input_shape=input_shape),\n",
        "        tf.keras.layers.Dense(1, activation='sigmoid')\n",
        "    ])\n",
        "\n",
        "    model.compile(optimizer='adam', loss='binary_crossentropy', metrics=['accuracy'])\n",
        "\n",
        "    return model"
      ],
      "metadata": {
        "id": "T1e5J_-bZKBT"
      },
      "execution_count": 3,
      "outputs": []
    },
    {
      "cell_type": "code",
      "source": [
        "# Build and compile the model with 2 hidden layers of 4 nodes each\n",
        "def build_model_2(input_shape):\n",
        "    model = tf.keras.Sequential([\n",
        "        tf.keras.layers.Dense(4, activation='relu', input_shape=input_shape),\n",
        "        tf.keras.layers.Dense(4, activation='relu'),  # Second hidden layer\n",
        "        tf.keras.layers.Dense(1, activation='sigmoid')  # Output layer\n",
        "    ])\n",
        "\n",
        "    model.compile(optimizer='adam', loss='binary_crossentropy', metrics=['accuracy'])\n",
        "\n",
        "    return model"
      ],
      "metadata": {
        "id": "rrSgzxDBi-rS"
      },
      "execution_count": 4,
      "outputs": []
    },
    {
      "cell_type": "code",
      "source": [
        "# Train the model\n",
        "def train_ann_model(csv_file, model_num):\n",
        "    # Load and preprocess data\n",
        "    X, y = load_and_preprocess_data(csv_file)\n",
        "\n",
        "    # Split data into training and testing sets (80-20 split)\n",
        "    X_train, X_test, y_train, y_test = train_test_split(X, y, test_size=0.2, random_state=42)\n",
        "\n",
        "    start_time = time.time()\n",
        "\n",
        "    # Build the model\n",
        "    if model_num == 1:\n",
        "        model = build_model((X_train.shape[1],))\n",
        "    elif model_num == 2:\n",
        "        model = build_model_2((X_train.shape[1],))\n",
        "\n",
        "    # Train the model\n",
        "    history = model.fit(\n",
        "        X_train, y_train,\n",
        "        epochs=50,\n",
        "        batch_size=32,\n",
        "        validation_split=0.2,\n",
        "        verbose=0\n",
        "    )\n",
        "\n",
        "    # Evaluate the model on the test data\n",
        "    test_loss, test_acc = model.evaluate(X_test, y_test, verbose=2)\n",
        "\n",
        "    total_time = time.time() - start_time\n",
        "\n",
        "    print(f\"Test accuracy: {test_acc:.4f} and Total time taken is {total_time:.4f} seconds\")"
      ],
      "metadata": {
        "id": "C0uz6gEFZaOr"
      },
      "execution_count": 5,
      "outputs": []
    },
    {
      "cell_type": "code",
      "source": [
        "train_ann_model(\"sample_1000.csv\", 1)"
      ],
      "metadata": {
        "colab": {
          "base_uri": "https://localhost:8080/"
        },
        "id": "KgDsDHAjZd94",
        "outputId": "4ed456be-b1f2-40ab-af9d-f54f29fc7604"
      },
      "execution_count": 6,
      "outputs": [
        {
          "output_type": "stream",
          "name": "stderr",
          "text": [
            "/usr/local/lib/python3.11/dist-packages/keras/src/layers/core/dense.py:87: UserWarning: Do not pass an `input_shape`/`input_dim` argument to a layer. When using Sequential models, prefer using an `Input(shape)` object as the first layer in the model instead.\n",
            "  super().__init__(activity_regularizer=activity_regularizer, **kwargs)\n"
          ]
        },
        {
          "output_type": "stream",
          "name": "stdout",
          "text": [
            "7/7 - 0s - 55ms/step - accuracy: 0.7800 - loss: 0.7418\n",
            "Test accuracy: 0.7800 and Total time taken is 11.0356 seconds\n"
          ]
        }
      ]
    },
    {
      "cell_type": "code",
      "source": [
        "train_ann_model(\"sample_10000.csv\", 1)"
      ],
      "metadata": {
        "colab": {
          "base_uri": "https://localhost:8080/"
        },
        "id": "iWtsPvc6Zqkw",
        "outputId": "1be2f532-8855-4bc3-d416-e90d40baa06c"
      },
      "execution_count": 7,
      "outputs": [
        {
          "output_type": "stream",
          "name": "stderr",
          "text": [
            "/usr/local/lib/python3.11/dist-packages/keras/src/layers/core/dense.py:87: UserWarning: Do not pass an `input_shape`/`input_dim` argument to a layer. When using Sequential models, prefer using an `Input(shape)` object as the first layer in the model instead.\n",
            "  super().__init__(activity_regularizer=activity_regularizer, **kwargs)\n"
          ]
        },
        {
          "output_type": "stream",
          "name": "stdout",
          "text": [
            "63/63 - 1s - 9ms/step - accuracy: 0.8505 - loss: 0.3523\n",
            "Test accuracy: 0.8505 and Total time taken is 34.3881 seconds\n"
          ]
        }
      ]
    },
    {
      "cell_type": "code",
      "source": [
        "train_ann_model(\"sample_100000.csv\", 1)"
      ],
      "metadata": {
        "colab": {
          "base_uri": "https://localhost:8080/"
        },
        "id": "8IJe1nA-jbCz",
        "outputId": "8a8e2849-12fd-4127-e8ea-6bdc71b97fc0"
      },
      "execution_count": 8,
      "outputs": [
        {
          "output_type": "stream",
          "name": "stderr",
          "text": [
            "/usr/local/lib/python3.11/dist-packages/keras/src/layers/core/dense.py:87: UserWarning: Do not pass an `input_shape`/`input_dim` argument to a layer. When using Sequential models, prefer using an `Input(shape)` object as the first layer in the model instead.\n",
            "  super().__init__(activity_regularizer=activity_regularizer, **kwargs)\n"
          ]
        },
        {
          "output_type": "stream",
          "name": "stdout",
          "text": [
            "625/625 - 1s - 2ms/step - accuracy: 0.9870 - loss: 0.0339\n",
            "Test accuracy: 0.9870 and Total time taken is 353.5016 seconds\n"
          ]
        }
      ]
    },
    {
      "cell_type": "code",
      "source": [
        "train_ann_model(\"sample_1000.csv\", 2)"
      ],
      "metadata": {
        "colab": {
          "base_uri": "https://localhost:8080/"
        },
        "id": "wxiSBUNKjdUb",
        "outputId": "2cb30582-b435-48fc-bf77-42845d16ffe2"
      },
      "execution_count": 9,
      "outputs": [
        {
          "output_type": "stream",
          "name": "stderr",
          "text": [
            "/usr/local/lib/python3.11/dist-packages/keras/src/layers/core/dense.py:87: UserWarning: Do not pass an `input_shape`/`input_dim` argument to a layer. When using Sequential models, prefer using an `Input(shape)` object as the first layer in the model instead.\n",
            "  super().__init__(activity_regularizer=activity_regularizer, **kwargs)\n"
          ]
        },
        {
          "output_type": "stream",
          "name": "stdout",
          "text": [
            "7/7 - 0s - 60ms/step - accuracy: 0.7850 - loss: 0.5594\n",
            "Test accuracy: 0.7850 and Total time taken is 9.5472 seconds\n"
          ]
        }
      ]
    },
    {
      "cell_type": "code",
      "source": [
        "train_ann_model(\"sample_10000.csv\", 2)"
      ],
      "metadata": {
        "colab": {
          "base_uri": "https://localhost:8080/"
        },
        "id": "1yEq0yTJje6h",
        "outputId": "c297a5bf-b7cb-4031-8534-4559392491b3"
      },
      "execution_count": 10,
      "outputs": [
        {
          "output_type": "stream",
          "name": "stderr",
          "text": [
            "/usr/local/lib/python3.11/dist-packages/keras/src/layers/core/dense.py:87: UserWarning: Do not pass an `input_shape`/`input_dim` argument to a layer. When using Sequential models, prefer using an `Input(shape)` object as the first layer in the model instead.\n",
            "  super().__init__(activity_regularizer=activity_regularizer, **kwargs)\n"
          ]
        },
        {
          "output_type": "stream",
          "name": "stdout",
          "text": [
            "63/63 - 1s - 8ms/step - accuracy: 0.9165 - loss: 0.1986\n",
            "Test accuracy: 0.9165 and Total time taken is 35.5023 seconds\n"
          ]
        }
      ]
    },
    {
      "cell_type": "code",
      "source": [
        "train_ann_model(\"sample_100000.csv\", 2)"
      ],
      "metadata": {
        "colab": {
          "base_uri": "https://localhost:8080/"
        },
        "id": "xgT0_5frjgOI",
        "outputId": "795b2e37-b3ea-4b0b-f3dc-4c2861d1d114"
      },
      "execution_count": 11,
      "outputs": [
        {
          "output_type": "stream",
          "name": "stderr",
          "text": [
            "/usr/local/lib/python3.11/dist-packages/keras/src/layers/core/dense.py:87: UserWarning: Do not pass an `input_shape`/`input_dim` argument to a layer. When using Sequential models, prefer using an `Input(shape)` object as the first layer in the model instead.\n",
            "  super().__init__(activity_regularizer=activity_regularizer, **kwargs)\n"
          ]
        },
        {
          "output_type": "stream",
          "name": "stdout",
          "text": [
            "625/625 - 1s - 2ms/step - accuracy: 0.9966 - loss: 0.0297\n",
            "Test accuracy: 0.9966 and Total time taken is 355.6824 seconds\n"
          ]
        }
      ]
    }
  ]
}